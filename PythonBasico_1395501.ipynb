{
 "cells": [
  {
   "cell_type": "code",
   "execution_count": 1,
   "metadata": {},
   "outputs": [
    {
     "name": "stdout",
     "output_type": "stream",
     "text": [
      "Jose Pedro Treviño Hernandez 1395501\n"
     ]
    }
   ],
   "source": [
    "#ejercicio 1\n",
    "matricula= '1395501'\n",
    "nombre= \"Jose Pedro Treviño Hernandez\"\n",
    "print(nombre,matricula)\n"
   ]
  },
  {
   "cell_type": "code",
   "execution_count": 13,
   "metadata": {},
   "outputs": [
    {
     "name": "stdout",
     "output_type": "stream",
     "text": [
      "Ingresa el primer numero:  2\n",
      "Ingresa el segundo numero:  5\n",
      "Suma =  7\n",
      "Resta =  -3\n",
      "Multiplicacion =   10\n",
      "Division: =  0.4\n",
      "Exponente: =  32\n"
     ]
    }
   ],
   "source": [
    "#ejercicio 2\n",
    "b=int(input(\"Ingresa el primer numero:  \"))\n",
    "a=int(input(\"Ingresa el segundo numero:  \"))\n",
    "suma=b+a\n",
    "resta=b-a\n",
    "multip=b*a\n",
    "div=b/a\n",
    "exp=b**a\n",
    "print(\"Suma = \",+suma)\n",
    "print(\"Resta = \", +resta)\n",
    "print(\"Multiplicacion =  \", +multip)\n",
    "print(\"Division: = \", +div)\n",
    "print(\"Exponente: = \", +exp)"
   ]
  },
  {
   "cell_type": "code",
   "execution_count": 14,
   "metadata": {},
   "outputs": [
    {
     "name": "stdout",
     "output_type": "stream",
     "text": [
      "[3, 6, 9, 12, 15, 18, 21, 24, 27, 30]\n",
      "165\n"
     ]
    }
   ],
   "source": [
    "#ejercicio 3\n",
    "lista = []\n",
    "suma_lista = 0\n",
    "for i in range(1,11):\n",
    "    lista.append(i*3)\n",
    "print(lista)\n",
    "\n",
    "for i in lista:\n",
    "    suma_lista = suma_lista+i\n",
    "print(suma_lista)"
   ]
  },
  {
   "cell_type": "code",
   "execution_count": 15,
   "metadata": {},
   "outputs": [
    {
     "name": "stdout",
     "output_type": "stream",
     "text": [
      "Ingresa un numero:  1530\n",
      "El numero es par\n"
     ]
    }
   ],
   "source": [
    "#ejercicio 4.1\n",
    "num=int(input(\"Ingresa un numero:  \"))\n",
    "if (num % 2 ==0):\n",
    "    print(\"El numero es par\")\n",
    "else:\n",
    "    print(\"El numero es impar\")\n"
   ]
  },
  {
   "cell_type": "code",
   "execution_count": 17,
   "metadata": {},
   "outputs": [
    {
     "name": "stdout",
     "output_type": "stream",
     "text": [
      "Introduzca un numero entero mayor a 0: 10\n",
      "El numero no es primo\n"
     ]
    }
   ],
   "source": [
    "#ejercicio 4.2\n",
    "i = 0\n",
    "num = int(input(\"Introduzca un numero entero mayor a 0: \"))\n",
    "\n",
    "cont = 0\n",
    "\n",
    "for i in range(2, num):\n",
    "    if num % i == 0:\n",
    "        cont = cont + 1\n",
    "    else:\n",
    "        continue\n",
    "        \n",
    "if cont > 0:\n",
    "    print(\"El numero no es primo\")\n",
    "elif cont == 0:\n",
    "    print(\"El numero es primo\")"
   ]
  },
  {
   "cell_type": "code",
   "execution_count": 19,
   "metadata": {},
   "outputs": [
    {
     "name": "stdout",
     "output_type": "stream",
     "text": [
      "Ingresa un numero  1\n",
      "Ingresa otro numero  5\n",
      "Suma=  6\n",
      "Resta=  -4\n",
      "Multiplicacion=  5\n",
      "Division=  0.2\n",
      "Exponente=  1\n"
     ]
    }
   ],
   "source": [
    "#ejercicio 5\n",
    "\n",
    "def Suma(a,b):\n",
    "    resultado=a+b\n",
    "    return(resultado)\n",
    "def Resta(a,b):\n",
    "    resultado=a-b\n",
    "    return(resultado)\n",
    "def Multiplicacion(a,b):\n",
    "    resultado=a*b\n",
    "    return(resultado)\n",
    "def Division(a,b):\n",
    "    resultado=a/b\n",
    "    return(resultado)\n",
    "def Exponente(a,b):\n",
    "    resultado=a**b\n",
    "    return(resultado)\n",
    "a=int(input(\"Ingresa un numero  \"))\n",
    "b=int(input(\"Ingresa otro numero  \"))\n",
    "print(\"Suma= \",Suma(a,b))\n",
    "print(\"Resta= \",Resta(a,b))\n",
    "print(\"Multiplicacion= \",Multiplicacion(a,b))\n",
    "print(\"Division= \",Division(a,b))\n",
    "print(\"Exponente= \",Exponente(a,b))"
   ]
  },
  {
   "cell_type": "code",
   "execution_count": 20,
   "metadata": {},
   "outputs": [
    {
     "name": "stdout",
     "output_type": "stream",
     "text": [
      "1.2 es de tipo <class 'float'>\n",
      "2 es de tipo <class 'int'>\n",
      "True es de tipo <class 'bool'>\n",
      "(2+1j) es de tipo <class 'complex'>\n"
     ]
    }
   ],
   "source": [
    "#ejercicio Tuplas\n",
    "#primer_punto\n",
    "\n",
    "a=1.2\n",
    "b=2\n",
    "c=True\n",
    "d= 1j+2\n",
    "print(a, \"es de tipo\", type(a))\n",
    "print(b, \"es de tipo\", type(b))\n",
    "print(c, \"es de tipo\", type(c))\n",
    "print(d, \"es de tipo\", type(d))"
   ]
  },
  {
   "cell_type": "code",
   "execution_count": 22,
   "metadata": {},
   "outputs": [
    {
     "name": "stdout",
     "output_type": "stream",
     "text": [
      "(1, 2, 3, 4, 5, 6, 7)\n",
      "Primero:  1\n",
      "Ultimo:  7\n"
     ]
    }
   ],
   "source": [
    "#ejercicio Tuplas\n",
    "#segundo_punto\n",
    "\n",
    "tupla = (1, 2, 3, 4, 5, 6, 7)\n",
    "print(tupla)\n",
    "print(\"Primero: \", tupla[0])\n",
    "print(\"Ultimo: \", tupla[6])"
   ]
  },
  {
   "cell_type": "code",
   "execution_count": 24,
   "metadata": {},
   "outputs": [
    {
     "data": {
      "text/plain": [
       "(1, 2, 3, 4, 5, 6, 7, 'dilan', 'grovy', 'mokey')"
      ]
     },
     "execution_count": 24,
     "metadata": {},
     "output_type": "execute_result"
    }
   ],
   "source": [
    "#ejercicio Tuplas\n",
    "#tercer_punto\n",
    "\n",
    "tupla = tupla.__add__(('dilan','grovy','mokey'))\n",
    "tupla\n",
    "\n"
   ]
  },
  {
   "cell_type": "code",
   "execution_count": 25,
   "metadata": {},
   "outputs": [
    {
     "name": "stdout",
     "output_type": "stream",
     "text": [
      "Si se encuentra en la tupla\n"
     ]
    }
   ],
   "source": [
    "#ejercicio Tuplas\n",
    "#cuarto_punto\n",
    "\n",
    "prueb = 'dilan'\n",
    "if prueb in tupla:\n",
    "    print(\"Si se encuentra en la tupla\")\n",
    "else:\n",
    "    print(\"No se encuentra en la tupla\")\n",
    "\n"
   ]
  },
  {
   "cell_type": "code",
   "execution_count": 35,
   "metadata": {},
   "outputs": [
    {
     "data": {
      "text/plain": [
       "[29,\n",
       " 16,\n",
       " 10,\n",
       " 22,\n",
       " 1,\n",
       " 0,\n",
       " 15,\n",
       " 39,\n",
       " 13,\n",
       " 35,\n",
       " 24,\n",
       " 4,\n",
       " 12,\n",
       " 28,\n",
       " 11,\n",
       " 14,\n",
       " 28,\n",
       " 34,\n",
       " 19,\n",
       " 30,\n",
       " 21,\n",
       " 10,\n",
       " 31,\n",
       " 35,\n",
       " 32,\n",
       " 26,\n",
       " 17,\n",
       " 2,\n",
       " 1,\n",
       " 19,\n",
       " 34,\n",
       " 16,\n",
       " 28,\n",
       " 21,\n",
       " 31,\n",
       " 5,\n",
       " 13,\n",
       " 23,\n",
       " 30,\n",
       " 27,\n",
       " 4]"
      ]
     },
     "execution_count": 35,
     "metadata": {},
     "output_type": "execute_result"
    }
   ],
   "source": [
    "#Ejercicio Listas\n",
    "#primer_punto\n",
    "# https://cs231n.github.io/python-numpy-tutorial/\n",
    "import numpy as np\n",
    "l1=[]\n",
    "for i in range(0,41):\n",
    "    l1.append(np.random.randint(0,40))\n",
    "l1"
   ]
  },
  {
   "cell_type": "code",
   "execution_count": 37,
   "metadata": {},
   "outputs": [
    {
     "name": "stdout",
     "output_type": "stream",
     "text": [
      "Lista Pares:  [16, 10, 22, 0, 24, 4, 12, 28, 14, 28, 34, 30, 10, 32, 26, 2, 34, 16, 28, 30, 4]\n",
      "Lista Impares:  [29, 1, 15, 39, 13, 35, 11, 19, 21, 31, 35, 17, 1, 19, 21, 31, 5, 13, 23, 27]\n"
     ]
    }
   ],
   "source": [
    "#Ejercicio Listas\n",
    "#segundo_punto\n",
    "def Lista1(l1):\n",
    "    l2=[]\n",
    "    for i in range (0,41):\n",
    "        if (l1[i] % 2 == 0):\n",
    "            l2.append(l1[i])\n",
    "    return (l2)\n",
    "def Lista2(l1):\n",
    "    l3=[]\n",
    "    for i in range (0,41):\n",
    "        if (l1[i] % 2 != 0):\n",
    "            l3.append(l1[i])\n",
    "    return(l3)\n",
    "print(\"Lista Pares: \",Lista1(l1))\n",
    "print(\"Lista Impares: \",Lista2(l1))"
   ]
  },
  {
   "cell_type": "code",
   "execution_count": 38,
   "metadata": {},
   "outputs": [
    {
     "name": "stdout",
     "output_type": "stream",
     "text": [
      "21 20\n"
     ]
    }
   ],
   "source": [
    "#Ejercicio Listas\n",
    "#tercer_punto\n",
    "\n",
    "a=len(Lista1(l1))\n",
    "b=len(Lista2(l1))\n",
    "print(a,b)"
   ]
  },
  {
   "cell_type": "code",
   "execution_count": 40,
   "metadata": {},
   "outputs": [
    {
     "name": "stdout",
     "output_type": "stream",
     "text": [
      "Lista de Pares:  [34, 34, 32, 30, 30, 28, 28, 28, 26, 24, 22, 16, 16, 14, 12, 10, 10, 4, 4, 2, 0]\n",
      "Lista de Impares:  [1, 1, 5, 11, 13, 13, 15, 17, 19, 19, 21, 21, 23, 27, 29, 31, 31, 35, 35, 39]\n"
     ]
    }
   ],
   "source": [
    "#Ejercicio Listas\n",
    "#cuarto_punto\n",
    "\n",
    "par=Lista1(l1)\n",
    "impar=Lista2(l1)\n",
    "par.sort(reverse=True)\n",
    "impar.sort()\n",
    "print(\"Lista de Pares: \",par)\n",
    "print(\"Lista de Impares: \",impar)"
   ]
  },
  {
   "cell_type": "code",
   "execution_count": 42,
   "metadata": {},
   "outputs": [
    {
     "name": "stdout",
     "output_type": "stream",
     "text": [
      "Antes:  [4, 27, 5, 23, 13, 5, 31, 21, 28, 16, 34, 19, 1, 2, 17, 26, 32, 35, 31, 10, 21, 30, 19, 34, 28, 14, 11, 28, 12, 4, 24, 35, 13, 39, 15, 0, 1, 22, 10, 16, 29, 67] \n",
      "\n",
      "Despues:  [67, 29, 5, 10, 22, 1, 0, 15, 39, 13, 35, 24, 4, 12, 28, 11, 14, 28, 34, 19, 30, 21, 10, 31, 35, 32, 26, 17, 2, 1, 19, 34, 16, 28, 21, 31, 5, 13, 23, 5, 27, 4, 67] \n",
      "\n"
     ]
    }
   ],
   "source": [
    "#Ejercicio Listas\n",
    "#quinto_punto\n",
    "\n",
    "print(\"Antes: \",l1,\"\\n\")\n",
    "l1.reverse()\n",
    "l1.pop(2)\n",
    "l1.insert(2,5)\n",
    "l1.append(67)\n",
    "print(\"Despues: \",l1,\"\\n\")"
   ]
  },
  {
   "cell_type": "code",
   "execution_count": 43,
   "metadata": {},
   "outputs": [
    {
     "name": "stdout",
     "output_type": "stream",
     "text": [
      "{'Cesar': 28, 'Idalia': 31, 'Eric': 32, 'Diego': 30, 'Abraham': 42, 'Julio': 38}\n"
     ]
    }
   ],
   "source": [
    "#Ejercicio Diccionarios\n",
    "#primer_punto\n",
    "\n",
    "diction = {'Cesar': 28, 'Idalia': 31, 'Eric': 32, 'Diego': 30, 'Abraham':42, 'Julio':38}\n",
    "print(diction)"
   ]
  },
  {
   "cell_type": "code",
   "execution_count": 44,
   "metadata": {},
   "outputs": [
    {
     "name": "stdout",
     "output_type": "stream",
     "text": [
      "Lista de menor a mayor: [42, 38, 32, 31, 30, 28]\n"
     ]
    }
   ],
   "source": [
    "#Ejercicio Diccionarios\n",
    "#segundo_punto\n",
    "lista_oredenada = sorted(list(diction.values()), reverse=True)\n",
    "print(\"Lista de menor a mayor:\", lista_oredenada)"
   ]
  },
  {
   "cell_type": "code",
   "execution_count": 46,
   "metadata": {},
   "outputs": [
    {
     "name": "stdout",
     "output_type": "stream",
     "text": [
      "Cesar\n",
      "Idalia\n",
      "Eric\n",
      "Diego\n",
      "Abraham\n",
      "Julio\n"
     ]
    }
   ],
   "source": [
    "#Ejercicio Diccionarios\n",
    "#tercer_punto\n",
    "for i in diction:\n",
    "    print(i)"
   ]
  },
  {
   "cell_type": "code",
   "execution_count": 49,
   "metadata": {},
   "outputs": [
    {
     "name": "stdout",
     "output_type": "stream",
     "text": [
      "Diccionario actualizado: \n",
      " {'Cesar': 28, 'Idalia': 31, 'Eric': 32, 'Diego': 30, 'Abraham': 42, 'Julio': 38, 'Joo': 28, 'Merari': 25}\n"
     ]
    }
   ],
   "source": [
    "#Ejercicio Diccionarios\n",
    "#cuarto_punto\n",
    "diction['Joo'] = 28\n",
    "diction['Merari'] = 25\n",
    "print(\"Diccionario actualizado: \\n\", diction,)"
   ]
  },
  {
   "cell_type": "code",
   "execution_count": 51,
   "metadata": {},
   "outputs": [
    {
     "name": "stdout",
     "output_type": "stream",
     "text": [
      "{1, 2, 3, 4, 5, 6, 7, 8, 9, 10, 12, 13, 14, 15, 16, 17, 18, 19, 20, 21, 22, 23, 24, 25}\n"
     ]
    }
   ],
   "source": [
    "#Ejercicio Sets\n",
    "#primer_punto\n",
    "import random as r\n",
    "set_1 = set()\n",
    "for i in range(0, 100):\n",
    "    set_1.add(r.randint(1, 25))\n",
    "print(set_1)"
   ]
  },
  {
   "cell_type": "code",
   "execution_count": 52,
   "metadata": {},
   "outputs": [
    {
     "name": "stdout",
     "output_type": "stream",
     "text": [
      "La longitud del set es de:  24\n"
     ]
    }
   ],
   "source": [
    "#Ejercicio Sets\n",
    "#segundo_punto\n",
    "print(\"La longitud del set es de: \", len(set_1))"
   ]
  },
  {
   "cell_type": "code",
   "execution_count": 55,
   "metadata": {},
   "outputs": [
    {
     "name": "stdout",
     "output_type": "stream",
     "text": [
      "El elemento 8 si aparece en el set inicial\n",
      "El elemento 3 si aparece en el set inicial\n",
      "El elemento 4 si aparece en el set inicial\n",
      "El elemento 9 si aparece en el set inicial\n",
      "El elemento 9 si aparece en el set inicial\n",
      "[8, 3, 4, 9, 9]\n"
     ]
    }
   ],
   "source": [
    "#Ejercicio Sets\n",
    "#tercer_punto\n",
    "import random as r\n",
    "lista_aleatoria = []\n",
    "for i in range(0, 5):\n",
    "    lista_aleatoria.append(r.randint(1, 10))\n",
    "    \n",
    "for i in lista_aleatoria:\n",
    "    if i in set_1:\n",
    "        print(\"El elemento %d si se encuentra en el set inicial\" %(i))\n",
    "    else:\n",
    "        print(\"El elemento %d no se encuentra en el set incial\" %(i))\n",
    "    \n",
    "print(lista_aleatoria)"
   ]
  },
  {
   "cell_type": "code",
   "execution_count": null,
   "metadata": {},
   "outputs": [],
   "source": []
  }
 ],
 "metadata": {
  "kernelspec": {
   "display_name": "Python 3",
   "language": "python",
   "name": "python3"
  },
  "language_info": {
   "codemirror_mode": {
    "name": "ipython",
    "version": 3
   },
   "file_extension": ".py",
   "mimetype": "text/x-python",
   "name": "python",
   "nbconvert_exporter": "python",
   "pygments_lexer": "ipython3",
   "version": "3.8.3"
  }
 },
 "nbformat": 4,
 "nbformat_minor": 4
}
